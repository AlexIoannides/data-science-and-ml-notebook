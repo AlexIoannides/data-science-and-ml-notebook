{
 "cells": [
  {
   "cell_type": "markdown",
   "id": "future-unemployment",
   "metadata": {},
   "source": [
    "# MNIST and Deep Neural Networks\n",
    "\n",
    "This notebook tackles the classic [MNIST](https://en.wikipedia.org/wiki/MNIST_database) classification task, as a proxy for building Deep Neural Networks (DNNs) with PyTorch."
   ]
  },
  {
   "cell_type": "markdown",
   "id": "alpine-christopher",
   "metadata": {},
   "source": [
    "## Imports"
   ]
  },
  {
   "cell_type": "code",
   "execution_count": 1,
   "id": "thousand-slovenia",
   "metadata": {},
   "outputs": [],
   "source": [
    "from typing import Sequence\n",
    "\n",
    "import torch\n",
    "import torchvision\n",
    "from matplotlib import pyplot as plt\n",
    "from torch import nn\n",
    "from torch.utils.data import DataLoader\n",
    "from tqdm import tqdm"
   ]
  },
  {
   "cell_type": "markdown",
   "id": "affecting-marketing",
   "metadata": {},
   "source": [
    "## Configuration"
   ]
  },
  {
   "cell_type": "code",
   "execution_count": 2,
   "id": "bearing-malaysia",
   "metadata": {},
   "outputs": [
    {
     "data": {
      "text/plain": [
       "<torch._C.Generator at 0x7ff4b6272258>"
      ]
     },
     "execution_count": 2,
     "metadata": {},
     "output_type": "execute_result"
    }
   ],
   "source": [
    "torch.manual_seed(1)"
   ]
  },
  {
   "cell_type": "markdown",
   "id": "shaped-network",
   "metadata": {},
   "source": [
    "## Get Dataset"
   ]
  },
  {
   "cell_type": "code",
   "execution_count": 3,
   "id": "compound-nurse",
   "metadata": {},
   "outputs": [
    {
     "name": "stdout",
     "output_type": "stream",
     "text": [
      "60,000 instances of training data\n",
      "10,000 instances of training data\n"
     ]
    }
   ],
   "source": [
    "train_data = torchvision.datasets.MNIST(\n",
    "    root='./data',\n",
    "    train=True,\n",
    "    download=True,\n",
    "    transform=torchvision.transforms.ToTensor()\n",
    ")\n",
    "\n",
    "test_data = torchvision.datasets.MNIST(\n",
    "    root='./data',\n",
    "    train=False,\n",
    "    download=True,\n",
    "    transform=torchvision.transforms.ToTensor()\n",
    ")\n",
    "\n",
    "print(f'{len(train_data):,} instances of training data')\n",
    "print(f'{len(test_data):,} instances of training data')"
   ]
  },
  {
   "cell_type": "markdown",
   "id": "mature-alliance",
   "metadata": {},
   "source": [
    "Inspect a single instance of training data."
   ]
  },
  {
   "cell_type": "code",
   "execution_count": 6,
   "id": "violent-confidentiality",
   "metadata": {},
   "outputs": [
    {
     "name": "stdout",
     "output_type": "stream",
     "text": [
      "label = 3\n"
     ]
    },
    {
     "data": {
      "image/png": "[encoded data removed]",
      "text/plain": [
       "<Figure size 432x288 with 1 Axes>"
      ]
     },
     "metadata": {
      "needs_background": "light"
     },
     "output_type": "display_data"
    }
   ],
   "source": [
    "data_instance, data_label = train_data[10]\n",
    "print(f'label = {data_label}')\n",
    "_ = plt.imshow(data_instance[0], cmap='gray')"
   ]
  },
  {
   "cell_type": "markdown",
   "id": "funky-raising",
   "metadata": {},
   "source": [
    "## Define a Simple Neural Network Classification Model\n",
    "\n",
    "Start by defining the network that we want to train."
   ]
  },
  {
   "cell_type": "code",
   "execution_count": 5,
   "id": "silent-header",
   "metadata": {},
   "outputs": [],
   "source": [
    "class DeepNeuralNetworkMNIST(nn.Module):\n",
    "    \"\"\"MNIST classification DNN.\"\"\"\n",
    "    \n",
    "    def __init__(self, n_hidden_neurons):\n",
    "        super().__init__()\n",
    "        self.input_dim = 28 * 28\n",
    "        self.n_classes = 10\n",
    "        self.n_hidden_neurons = n_hidden_neurons\n",
    "        self.model = nn.Sequential(\n",
    "            nn.Linear(self.input_dim, n_hidden_neurons),\n",
    "            nn.ReLU(),\n",
    "            nn.Linear(n_hidden_neurons, self.n_classes)\n",
    "        )\n",
    "        \n",
    "    \n",
    "    def forward(self, X: torch.Tensor) -> torch.Tensor:\n",
    "        \"\"\"Compute a prediction.\"\"\"\n",
    "        return self.model(X)"
   ]
  },
  {
   "cell_type": "markdown",
   "id": "thousand-chance",
   "metadata": {},
   "source": [
    "And then the training routine to use with it."
   ]
  },
  {
   "cell_type": "code",
   "execution_count": 6,
   "id": "threaded-nurse",
   "metadata": {},
   "outputs": [],
   "source": [
    "def train(\n",
    "    model: nn.Module,\n",
    "    criterion: nn.Module,\n",
    "    data_loader: DataLoader,\n",
    "    n_epochs: int,\n",
    "    learning_rate: float\n",
    ") -> Sequence[float]:\n",
    "    \"\"\"Train the model over multiple epochs recording the loss for each.\"\"\"\n",
    "\n",
    "    def process_batch(X: torch.Tensor, y: torch.Tensor) -> float:\n",
    "        y_hat = model.forward(X.view(-1, model.input_dim))\n",
    "        loss = criterion(y_hat, y)\n",
    "        optimiser.zero_grad()\n",
    "        loss.backward()\n",
    "        optimiser.step()\n",
    "        return loss.detach().numpy().tolist()\n",
    "\n",
    "    def process_epoch(n: int) -> float:\n",
    "        return [process_batch(X, y) for X, y in data_loader][-1]\n",
    "\n",
    "    optimiser = torch.optim.SGD(model.parameters(), lr=0.05)\n",
    "    training_run = [process_epoch(epoch) for epoch in tqdm(range(n_epochs))]\n",
    "    return training_run"
   ]
  },
  {
   "cell_type": "markdown",
   "id": "industrial-spider",
   "metadata": {},
   "source": [
    "Train the model!"
   ]
  },
  {
   "cell_type": "code",
   "execution_count": 7,
   "id": "intellectual-organic",
   "metadata": {},
   "outputs": [
    {
     "name": "stderr",
     "output_type": "stream",
     "text": [
      "100%|██████████| 10/10 [01:09<00:00,  6.97s/it]\n"
     ]
    },
    {
     "data": {
      "text/plain": [
       "[0.6655569672584534,\n",
       " 0.3959246277809143,\n",
       " 0.33003175258636475,\n",
       " 0.3028208911418915,\n",
       " 0.28768372535705566,\n",
       " 0.2774292528629303,\n",
       " 0.2695397734642029,\n",
       " 0.26290616393089294,\n",
       " 0.2570151686668396,\n",
       " 0.25152984261512756]"
      ]
     },
     "execution_count": 7,
     "metadata": {},
     "output_type": "execute_result"
    }
   ],
   "source": [
    "training_data_loader = DataLoader(dataset=train_data, batch_size=500)\n",
    "nn_model = ClassifyMNIST(28*28)\n",
    "loss_func = nn.CrossEntropyLoss()\n",
    "train(nn_model, loss_func, training_data_loader, n_epochs=10, learning_rate=0.05)"
   ]
  },
  {
   "cell_type": "markdown",
   "id": "naughty-tactics",
   "metadata": {},
   "source": [
    "Asses the model on the test dataset."
   ]
  },
  {
   "cell_type": "code",
   "execution_count": 8,
   "id": "worth-houston",
   "metadata": {},
   "outputs": [
    {
     "data": {
      "text/plain": [
       "tensor(0.9236)"
      ]
     },
     "execution_count": 8,
     "metadata": {},
     "output_type": "execute_result"
    }
   ],
   "source": [
    "test_data_loader = DataLoader(dataset=test_data, batch_size=10000)\n",
    "correct = 0\n",
    "for X, y in test_data_loader:\n",
    "    _, y_hat = torch.max(nn_model.forward(X.view(-1, 28*28)), 1)\n",
    "    correct += (y_hat == y).sum()\n",
    "accuracy = correct / len(test_data)\n",
    "accuracy"
   ]
  },
  {
   "cell_type": "markdown",
   "id": "happy-angel",
   "metadata": {},
   "source": [
    "Let's test it on the test instance displayed above."
   ]
  },
  {
   "cell_type": "code",
   "execution_count": 9,
   "id": "graduate-signature",
   "metadata": {},
   "outputs": [
    {
     "data": {
      "text/plain": [
       "tensor([5])"
      ]
     },
     "execution_count": 9,
     "metadata": {},
     "output_type": "execute_result"
    }
   ],
   "source": [
    "output_from_final_layer = nn_model.forward(data_instance.view(-1, 28*28))\n",
    "value, index = torch.max(output_from_final_layer, 1)\n",
    "index"
   ]
  },
  {
   "cell_type": "code",
   "execution_count": null,
   "id": "dental-internship",
   "metadata": {},
   "outputs": [],
   "source": []
  }
 ],
 "metadata": {
  "kernelspec": {
   "display_name": "Python 3",
   "language": "python",
   "name": "python3"
  },
  "language_info": {
   "codemirror_mode": {
    "name": "ipython",
    "version": 3
   },
   "file_extension": ".py",
   "mimetype": "text/x-python",
   "name": "python",
   "nbconvert_exporter": "python",
   "pygments_lexer": "ipython3",
   "version": "3.7.1"
  }
 },
 "nbformat": 4,
 "nbformat_minor": 5
}
