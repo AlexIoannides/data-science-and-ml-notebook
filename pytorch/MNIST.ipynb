{
 "cells": [
  {
   "cell_type": "markdown",
   "id": "guided-tribe",
   "metadata": {},
   "source": [
    "# MNIST\n",
    "\n",
    "This notebook tackles the classic [MNIST](https://en.wikipedia.org/wiki/MNIST_database) classification task, as a proxy for building simple neural networks with PyTorch."
   ]
  },
  {
   "cell_type": "markdown",
   "id": "introductory-assurance",
   "metadata": {},
   "source": [
    "## Imports"
   ]
  },
  {
   "cell_type": "code",
   "execution_count": 1,
   "id": "private-upper",
   "metadata": {},
   "outputs": [],
   "source": [
    "from typing import Sequence\n",
    "\n",
    "import torch\n",
    "import torchvision\n",
    "from matplotlib import pyplot as plt\n",
    "from torch import nn\n",
    "from torch.utils.data import DataLoader\n",
    "from tqdm import tqdm"
   ]
  },
  {
   "cell_type": "markdown",
   "id": "local-stomach",
   "metadata": {},
   "source": [
    "## Configuration"
   ]
  },
  {
   "cell_type": "code",
   "execution_count": 2,
   "id": "fossil-wagon",
   "metadata": {},
   "outputs": [
    {
     "data": {
      "text/plain": [
       "<torch._C.Generator at 0x7fe130380258>"
      ]
     },
     "execution_count": 2,
     "metadata": {},
     "output_type": "execute_result"
    }
   ],
   "source": [
    "torch.manual_seed(1)"
   ]
  },
  {
   "cell_type": "markdown",
   "id": "indian-gateway",
   "metadata": {},
   "source": [
    "## Get Dataset"
   ]
  },
  {
   "cell_type": "code",
   "execution_count": 3,
   "id": "invalid-detective",
   "metadata": {},
   "outputs": [
    {
     "name": "stdout",
     "output_type": "stream",
     "text": [
      "60,000 instances of training data\n",
      "10,000 instances of training data\n"
     ]
    }
   ],
   "source": [
    "train_data = torchvision.datasets.MNIST(\n",
    "    root='./data',\n",
    "    train=True,\n",
    "    download=True,\n",
    "    transform=torchvision.transforms.ToTensor()\n",
    ")\n",
    "\n",
    "test_data = torchvision.datasets.MNIST(\n",
    "    root='./data',\n",
    "    train=False,\n",
    "    download=True,\n",
    "    transform=torchvision.transforms.ToTensor()\n",
    ")\n",
    "\n",
    "print(f'{len(train_data):,} instances of training data')\n",
    "print(f'{len(test_data):,} instances of training data')"
   ]
  },
  {
   "cell_type": "markdown",
   "id": "educated-plenty",
   "metadata": {},
   "source": [
    "Inspect a single instance of training data."
   ]
  },
  {
   "cell_type": "code",
   "execution_count": 4,
   "id": "certain-crash",
   "metadata": {},
   "outputs": [
    {
     "name": "stdout",
     "output_type": "stream",
     "text": [
      "label = 5\n"
     ]
    },
    {
     "data": {
      "image/png": "[encoded data removed]",
      "text/plain": [
       "<Figure size 432x288 with 1 Axes>"
      ]
     },
     "metadata": {
      "needs_background": "light"
     },
     "output_type": "display_data"
    }
   ],
   "source": [
    "data_instance, data_label = train_data[0]\n",
    "print(f'label = {data_label}')\n",
    "_ = plt.imshow(data_instance[0], cmap='gray')"
   ]
  },
  {
   "cell_type": "markdown",
   "id": "forbidden-amsterdam",
   "metadata": {},
   "source": [
    "## Define a Simple Neural Network Classification Model"
   ]
  },
  {
   "cell_type": "code",
   "execution_count": 5,
   "id": "pregnant-brain",
   "metadata": {},
   "outputs": [],
   "source": [
    "class ClassifyMNIST(nn.Module):\n",
    "    \"\"\"MNIST classification network.\"\"\"\n",
    "    \n",
    "    def __init__(self, n_hidden_neurons):\n",
    "        super(ClassifyMNIST, self).__init__()\n",
    "        self.input_dim = 28 * 28\n",
    "        self.n_classes = 10\n",
    "        self.n_hidden_neurons = n_hidden_neurons\n",
    "        self.model = nn.Sequential(\n",
    "            nn.Linear(self.input_dim, n_hidden_neurons),\n",
    "            nn.ReLU(),\n",
    "            nn.Linear(n_hidden_neurons, self.n_classes)\n",
    "        )\n",
    "        self.criterion = nn.CrossEntropyLoss()\n",
    "        \n",
    "    \n",
    "    def forward(self, X: torch.Tensor) -> torch.Tensor:\n",
    "        \"\"\"Compute a prediction.\"\"\"\n",
    "        return self.model(X)\n",
    "    \n",
    "    def fit(\n",
    "        self,\n",
    "        data_loader: DataLoader,\n",
    "        n_epochs: int,\n",
    "        learning_rate: float\n",
    "    ) -> Sequence[float]:\n",
    "        \"\"\"Train the model over multiple epochs recording the loss for each.\"\"\"\n",
    "\n",
    "        def process_batch(X: torch.Tensor, y: torch.Tensor) -> float:\n",
    "            y_hat = self.forward(X.view(-1, self.input_dim))\n",
    "            loss = self.criterion(y_hat, y)\n",
    "            optimiser.zero_grad()\n",
    "            loss.backward()\n",
    "            optimiser.step()\n",
    "            return loss.detach().numpy().tolist()\n",
    "\n",
    "        def process_epoch(n: int) -> float:\n",
    "            return [process_batch(X, y) for X, y in data_loader][-1]\n",
    "\n",
    "        optimiser = torch.optim.SGD(self.parameters(), lr=0.05)\n",
    "        training_run = [process_epoch(epoch) for epoch in tqdm(range(n_epochs))]\n",
    "        return training_run"
   ]
  },
  {
   "cell_type": "markdown",
   "id": "moved-expansion",
   "metadata": {},
   "source": [
    "Train the model!"
   ]
  },
  {
   "cell_type": "code",
   "execution_count": 16,
   "id": "elder-space",
   "metadata": {},
   "outputs": [
    {
     "name": "stderr",
     "output_type": "stream",
     "text": [
      "100%|██████████| 10/10 [01:22<00:00,  8.21s/it]\n"
     ]
    },
    {
     "data": {
      "text/plain": [
       "[0.6664730906486511,\n",
       " 0.3933204114437103,\n",
       " 0.32660162448883057,\n",
       " 0.29921478033065796,\n",
       " 0.28405267000198364,\n",
       " 0.2738266885280609,\n",
       " 0.2658975124359131,\n",
       " 0.259243905544281,\n",
       " 0.2532430589199066,\n",
       " 0.2476392537355423]"
      ]
     },
     "execution_count": 16,
     "metadata": {},
     "output_type": "execute_result"
    }
   ],
   "source": [
    "training_data_loader = DataLoader(dataset=train_data, batch_size=500)\n",
    "nn_model = ClassifyMNIST(28*28)\n",
    "nn_model.fit(training_data_loader, n_epochs=10, learning_rate=0.05)"
   ]
  },
  {
   "cell_type": "markdown",
   "id": "foreign-milwaukee",
   "metadata": {},
   "source": [
    "Asses the model on the test dataset."
   ]
  },
  {
   "cell_type": "code",
   "execution_count": 17,
   "id": "constitutional-rebel",
   "metadata": {},
   "outputs": [
    {
     "data": {
      "text/plain": [
       "tensor(0.9234)"
      ]
     },
     "execution_count": 17,
     "metadata": {},
     "output_type": "execute_result"
    }
   ],
   "source": [
    "test_data_loader = DataLoader(dataset=test_data, batch_size=10000)\n",
    "correct = 0\n",
    "for X, y in test_data_loader:\n",
    "    _, y_hat = torch.max(nn_model.forward(X.view(-1, 28*28)), 1)\n",
    "    correct += (y_hat == y).sum()\n",
    "accuracy = correct / len(test_data)\n",
    "accuracy"
   ]
  },
  {
   "cell_type": "markdown",
   "id": "rental-lighter",
   "metadata": {},
   "source": [
    "Let's test it on the test instance displayed above."
   ]
  },
  {
   "cell_type": "code",
   "execution_count": 18,
   "id": "opponent-median",
   "metadata": {},
   "outputs": [
    {
     "data": {
      "text/plain": [
       "tensor([5])"
      ]
     },
     "execution_count": 18,
     "metadata": {},
     "output_type": "execute_result"
    }
   ],
   "source": [
    "output_from_final_layer = nn_model.forward(data_instance.view(-1, 28*28))\n",
    "value, index = torch.max(output_from_final_layer, 1)\n",
    "index"
   ]
  },
  {
   "cell_type": "code",
   "execution_count": null,
   "id": "incorporated-pierre",
   "metadata": {},
   "outputs": [],
   "source": []
  }
 ],
 "metadata": {
  "kernelspec": {
   "display_name": "Python 3",
   "language": "python",
   "name": "python3"
  },
  "language_info": {
   "codemirror_mode": {
    "name": "ipython",
    "version": 3
   },
   "file_extension": ".py",
   "mimetype": "text/x-python",
   "name": "python",
   "nbconvert_exporter": "python",
   "pygments_lexer": "ipython3",
   "version": "3.7.1"
  }
 },
 "nbformat": 4,
 "nbformat_minor": 5
}
